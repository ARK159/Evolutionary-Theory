{
 "cells": [
  {
   "cell_type": "code",
   "execution_count": 299,
   "metadata": {},
   "outputs": [],
   "source": [
    "import numpy as np\n",
    "import matplotlib.pyplot as plt\n",
    "import random,math"
   ]
  },
  {
   "cell_type": "code",
   "execution_count": 300,
   "metadata": {},
   "outputs": [],
   "source": [
    "nkt_rate=0.01\n",
    "nt_rate=0.01\n",
    "\n",
    "hbt_rate=0.03\n",
    "lbt_rate=0.01\n",
    "\n",
    "mbudget_rate=0.03\n",
    "mcost_rate=0.03\n",
    "\n"
   ]
  },
  {
   "cell_type": "code",
   "execution_count": 301,
   "metadata": {},
   "outputs": [],
   "source": [
    "a = 700\n",
    "b = 900\n",
    "c = 200\n",
    "d = 500\n",
    "\n",
    "N = 14\n",
    "omega = 0.4  #RAN factor \n",
    "\n",
    "nkt=300\n",
    "nt=1000\n",
    "nt_1=1000\n",
    "\n",
    "p=125\n",
    "c=100\n",
    "\n",
    "hbt=600\n",
    "lbt=400\n",
    "\n",
    "hngn=12\n",
    "htot=100\n",
    "\n",
    "mbudget=30000\n",
    "mcost=45000\n",
    "\n",
    "\n"
   ]
  },
  {
   "cell_type": "code",
   "execution_count": 302,
   "metadata": {},
   "outputs": [],
   "source": [
    "def calculate_payoff(i, N, a, b, c, d):\n",
    "    payoff_A = (a * (i - 1) / (N - 1)) + (b * (N - i) / (N - 1))\n",
    "    payoff_B = (c * i / (N - 1)) + (d * (N - i - 1) / (N - 1))\n",
    "    return payoff_A, payoff_B"
   ]
  },
  {
   "cell_type": "code",
   "execution_count": 303,
   "metadata": {},
   "outputs": [],
   "source": [
    "\n",
    "def calculate_fitness(payoff_A, payoff_B, omega):\n",
    "    fitness_A = 1 - omega + omega * payoff_A\n",
    "    fitness_B = 1 - omega + omega * payoff_B\n",
    "    return fitness_A, fitness_B\n",
    "\n",
    "    "
   ]
  },
  {
   "cell_type": "code",
   "execution_count": 304,
   "metadata": {},
   "outputs": [],
   "source": [
    "def migration_strength():\n",
    "    sigma=(nkt/nt)*(math.exp((nt_1-nt)/(nt))) + (p/c)*((hbt)/(hbt+lbt)) + (hngn/htot)*(mbudget/mcost)\n",
    "    sigmoid=1.0/(1+math.exp(-sigma))\n",
    "    return 1+sigmoid\n",
    "\n",
    "\n"
   ]
  },
  {
   "cell_type": "code",
   "execution_count": 305,
   "metadata": {},
   "outputs": [
    {
     "name": "stdout",
     "output_type": "stream",
     "text": [
      "404.0\n",
      "408.04\n",
      "412.1204\n",
      "416.241604\n",
      "420.40402004\n",
      "424.6080602404\n",
      "428.854140842804\n",
      "433.14268225123203\n",
      "437.47410907374433\n",
      "441.84885016448175\n",
      "446.2673386661266\n",
      "450.73001205278786\n",
      "455.23731217331573\n",
      "459.7896852950489\n",
      "464.3875821479994\n",
      "469.0314579694794\n",
      "473.7217725491742\n",
      "478.45899027466595\n",
      "483.2435801774126\n",
      "488.0760159791867\n"
     ]
    },
    {
     "data": {
      "text/plain": [
       "(0.6428571428571429, 20)"
      ]
     },
     "execution_count": 305,
     "metadata": {},
     "output_type": "execute_result"
    }
   ],
   "source": [
    "def moran_process(N, a, b, c, d, omega, generations=20):\n",
    "    population = ['A'] * 2 + ['B'] * (N-2)  \n",
    "    results = []\n",
    "\n",
    "    for generation in range(generations):\n",
    "        i = population.count('A')\n",
    "        payoff_A, payoff_B = calculate_payoff(i, N, a, b, c, d)\n",
    "        fitness_A, fitness_B = calculate_fitness(payoff_A, payoff_B, omega)\n",
    "        # print(fitness_A,' ',fitness_B)\n",
    "        migration_multiplier=migration_strength()\n",
    "        fitness_A=fitness_A*migration_multiplier\n",
    "        global nkt,nt_1,nt,hbt,lbt,mbudget,mcost\n",
    "        nkt+=nkt_rate*nkt\n",
    "        nt_1=nt\n",
    "        nt+=nt_rate*nt\n",
    "        \n",
    "        hbt+=hbt_rate*hbt\n",
    "        lbt+=lbt_rate*lbt\n",
    "        \n",
    "        mbudget+=mbudget_rate*mbudget\n",
    "        mcost+=mcost_rate*mcost\n",
    "        \n",
    "        # print(lbt)\n",
    "        \n",
    "        prob_A_birth = ((i * fitness_A)/(i*fitness_A+(N-i)*fitness_B))*((N-i)/(N))\n",
    "        # prob_B_birth = (((N-i)*fitness_B)/(i*fitness_A+(N-1)*fitness_B))*(i/N)\n",
    "       \n",
    "        prob_B_birth=0\n",
    "        prob_const=1-prob_A_birth-prob_B_birth  \n",
    "        event=random.choices(['A_birth','B_birth','constant'],weights=[prob_A_birth,prob_B_birth,prob_const])[0]\n",
    "        # print(prob_A_birth,' ',prob_B_birth,' ',prob_const)\n",
    "        # print(prob_A_birth+prob_B_birth+prob_const)\n",
    "        if event=='constant':\n",
    "            pass\n",
    "        elif event=='A_birth':\n",
    "            idx = population.index('B')\n",
    "            population[idx] = 'A'\n",
    "        else:\n",
    "            idx = population.index('A')\n",
    "            population[idx] = 'B'\n",
    "        \n",
    "        if population.count('A') == 0:\n",
    "            return 0, generation  \n",
    "        elif population.count('A') == N:\n",
    "            return 1, generation  \n",
    "\n",
    "    return population.count('A') / N, generations\n",
    "\n",
    "\n",
    "moran_process(N,a,b,c,d,omega)"
   ]
  },
  {
   "cell_type": "code",
   "execution_count": null,
   "metadata": {},
   "outputs": [],
   "source": []
  },
  {
   "cell_type": "code",
   "execution_count": null,
   "metadata": {},
   "outputs": [],
   "source": []
  }
 ],
 "metadata": {
  "kernelspec": {
   "display_name": "Python 3",
   "language": "python",
   "name": "python3"
  },
  "language_info": {
   "codemirror_mode": {
    "name": "ipython",
    "version": 3
   },
   "file_extension": ".py",
   "mimetype": "text/x-python",
   "name": "python",
   "nbconvert_exporter": "python",
   "pygments_lexer": "ipython3",
   "version": "3.10.12"
  }
 },
 "nbformat": 4,
 "nbformat_minor": 2
}
